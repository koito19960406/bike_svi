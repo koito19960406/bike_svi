{
 "cells": [
  {
   "cell_type": "code",
   "execution_count": 2,
   "metadata": {},
   "outputs": [],
   "source": [
    "# load /Volumes/ExFAT2/bike_svi/data/external/cities/London/count_station_clean.csv\n",
    "import pandas as pd\n",
    "df = pd.read_csv('/Volumes/ExFAT2/bike_svi/data/external/cities/London/count_station_clean.csv')\n",
    "# split into 4 dfs by rows equally\n",
    "df1 = df.iloc[:int(len(df)/4)]\n",
    "df2 = df.iloc[int(len(df)/4):int(len(df)/2)]\n",
    "df3 = df.iloc[int(len(df)/2):int(len(df)/4*3)]\n",
    "df4 = df.iloc[int(len(df)/4*3):]\n",
    "\n",
    "# save to csv\n",
    "df1.to_csv('/Volumes/ExFAT2/bike_svi/data/external/cities/London/count_station_clean_1.csv', index=False)\n",
    "df2.to_csv('/Volumes/ExFAT2/bike_svi/data/external/cities/London/count_station_clean_2.csv', index=False)\n",
    "df3.to_csv('/Volumes/ExFAT2/bike_svi/data/external/cities/London/count_station_clean_3.csv', index=False)\n",
    "df4.to_csv('/Volumes/ExFAT2/bike_svi/data/external/cities/London/count_station_clean_4.csv', index=False)"
   ]
  },
  {
   "cell_type": "code",
   "execution_count": null,
   "metadata": {},
   "outputs": [],
   "source": []
  }
 ],
 "metadata": {
  "kernelspec": {
   "display_name": "bike_svi",
   "language": "python",
   "name": "python3"
  },
  "language_info": {
   "codemirror_mode": {
    "name": "ipython",
    "version": 3
   },
   "file_extension": ".py",
   "mimetype": "text/x-python",
   "name": "python",
   "nbconvert_exporter": "python",
   "pygments_lexer": "ipython3",
   "version": "3.9.16"
  },
  "orig_nbformat": 4
 },
 "nbformat": 4,
 "nbformat_minor": 2
}
