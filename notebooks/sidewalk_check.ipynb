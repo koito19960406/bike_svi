{
 "cells": [
  {
   "cell_type": "code",
   "execution_count": 1,
   "metadata": {},
   "outputs": [],
   "source": [
    "import pandas as pd\n",
    "import cv2\n",
    "import matplotlib.pyplot as plt\n",
    "from dotenv import find_dotenv, load_dotenv\n",
    "import os\n",
    "import shutil\n",
    "import tqdm\n",
    "%matplotlib inline"
   ]
  },
  {
   "cell_type": "code",
   "execution_count": 2,
   "metadata": {},
   "outputs": [],
   "source": [
    "# get root_dir\n",
    "load_dotenv(find_dotenv())\n",
    "root_dir = os.environ.get(\"ROOT_DIR\")\n",
    "\n",
    "# import dataset to get image file names with sidewalk ratio between 0-0.10\n",
    "segmentation = pd.read_csv(os.path.join(root_dir, \"data/processed/cities/london/segmentation_pixel_ratio_wide.csv\"))"
   ]
  },
  {
   "cell_type": "code",
   "execution_count": 3,
   "metadata": {},
   "outputs": [
    {
     "name": "stderr",
     "output_type": "stream",
     "text": [
      "100it [01:04,  1.55it/s]\n"
     ]
    },
    {
     "name": "stdout",
     "output_type": "stream",
     "text": [
      "got [Errno 2] No such file or directory: '/Volumes/ExFAT/bike_svi/data/raw/cities/london/gsv/image/panorama/1smbro4LUpngItMsWtispg.jpg'\n"
     ]
    }
   ],
   "source": [
    "# filter and sample\n",
    "segmentation_filtered_sampled_above = segmentation[(segmentation[\"sidewalk\"]>=0.05)].sample(100, random_state=1234)\n",
    "segmentation_filtered_sampled_below = segmentation[(segmentation[\"sidewalk\"]<0.05)].sample(100, random_state=1234)\n",
    "\n",
    "# create an image directory\n",
    "os.makedirs(\"reports/image/sidewalk_above_threshold/\", exist_ok=True)\n",
    "os.makedirs(\"reports/image/sidewalk_below_threshold/\", exist_ok=True)\n",
    "\n",
    "# loop through the pid and show image with pixel ratio\n",
    "for _, row in tqdm.tqdm(segmentation_filtered_sampled_above.iterrows()):\n",
    "    img_file = os.path.join(root_dir,\"data/raw/cities/london/gsv/image/panorama/\",row[\"pid\"] +\".jpg\")\n",
    "    # copy to a new directory\n",
    "    if not os.path.exists(os.path.join(\"reports/image/sidewalk_above_threshold/\",row[\"pid\"] +\".jpg\")):\n",
    "        try:\n",
    "            shutil.copy2(img_file,\"reports/image/sidewalk_above_threshold/\")\n",
    "        except Exception as e:\n",
    "            print(\"got \" + str(e))\n",
    "    \n",
    "# loop through the pid and show image with pixel ratio\n",
    "for _, row in segmentation_filtered_sampled_below.iterrows():\n",
    "    img_file = os.path.join(root_dir,\"data/raw/cities/london/gsv/image/panorama/\",row[\"pid\"] +\".jpg\")\n",
    "    # copy to a new directory\n",
    "    if not os.path.exists(os.path.join(\"reports/image/sidewalk_below_threshold/\",row[\"pid\"] +\".jpg\")):\n",
    "        try:\n",
    "            shutil.copy2(img_file,\"reports/image/sidewalk_below_threshold/\")\n",
    "        except Exception as e:\n",
    "            print(\"got \" + str(e))"
   ]
  },
  {
   "cell_type": "code",
   "execution_count": null,
   "metadata": {},
   "outputs": [],
   "source": []
  }
 ],
 "metadata": {
  "kernelspec": {
   "display_name": "bike_svi_arm",
   "language": "python",
   "name": "python3"
  },
  "language_info": {
   "codemirror_mode": {
    "name": "ipython",
    "version": 3
   },
   "file_extension": ".py",
   "mimetype": "text/x-python",
   "name": "python",
   "nbconvert_exporter": "python",
   "pygments_lexer": "ipython3",
   "version": "3.10.6 | packaged by conda-forge | (main, Aug 22 2022, 20:41:22) [Clang 13.0.1 ]"
  },
  "orig_nbformat": 4,
  "vscode": {
   "interpreter": {
    "hash": "f1b0c7b3e4118c049d7ba80f71c5a0233ed5b11f79b93fee10272df1c35ed8c7"
   }
  }
 },
 "nbformat": 4,
 "nbformat_minor": 2
}
